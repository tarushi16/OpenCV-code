{
 "cells": [
  {
   "cell_type": "code",
   "execution_count": 1,
   "id": "1db7b7f8",
   "metadata": {},
   "outputs": [],
   "source": [
    "import random\n",
    "import cv2\n",
    "from matplotlib import pyplot as plt"
   ]
  },
  {
   "cell_type": "code",
   "execution_count": null,
   "id": "8774fbc9",
   "metadata": {},
   "outputs": [],
   "source": [
    "def add_noise(img):\n",
    "    row, col = img.shape\n",
    "    number_of_pixels = random.randint(300,10000)\n",
    "    for i in range(number_of_pixels):\n",
    "        ycord = random.randit(0, row-1)\n",
    "        ycord = random.randit(0, col-1)\n",
    "        img[ycord][xcord] = 255\n",
    "    number_of_pixels = random.randint(300,10000)  \n",
    "    for i in range(number_of_pixels):\n",
    "        ycord = random.randit(0, row-1)\n",
    "        ycord = random.randit(0, col-1)\n",
    "        img[ycord][xcord] = 0\n",
    "    \n",
    "    return img"
   ]
  },
  {
   "cell_type": "code",
   "execution_count": null,
   "id": "48e36ee9",
   "metadata": {},
   "outputs": [],
   "source": [
    "img = cv2.imread(\"apple.jpg\")\n",
    "plt.imshow(image)\n",
    "plt.show()"
   ]
  },
  {
   "cell_type": "code",
   "execution_count": null,
   "id": "c6d45078",
   "metadata": {},
   "outputs": [],
   "source": [
    "image_rgb = cv2.cvtColor(image, cv2.COLOR_BGR2RGB)\n",
    "plt.imshow(image)\n",
    "plt.show()"
   ]
  },
  {
   "cell_type": "code",
   "execution_count": null,
   "id": "cfc68b95",
   "metadata": {},
   "outputs": [],
   "source": []
  }
 ],
 "metadata": {
  "kernelspec": {
   "display_name": "Python 3",
   "language": "python",
   "name": "python3"
  },
  "language_info": {
   "codemirror_mode": {
    "name": "ipython",
    "version": 3
   },
   "file_extension": ".py",
   "mimetype": "text/x-python",
   "name": "python",
   "nbconvert_exporter": "python",
   "pygments_lexer": "ipython3",
   "version": "3.8.8"
  }
 },
 "nbformat": 4,
 "nbformat_minor": 5
}
